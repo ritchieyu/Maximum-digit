{
  "nbformat": 4,
  "nbformat_minor": 0,
  "metadata": {
    "colab": {
      "name": "Final submission",
      "provenance": [],
      "collapsed_sections": [],
      "machine_shape": "hm"
    },
    "kernelspec": {
      "name": "python3",
      "display_name": "Python 3"
    },
    "accelerator": "GPU"
  },
  "cells": [
    {
      "cell_type": "markdown",
      "metadata": {
        "id": "Mkczbii_SKFN"
      },
      "source": [
        "## **MAIS 202 Assignment 4**\n",
        "\n",
        "Final code submission for max digit recognition. To run the code, import kaggle api key to access data. Everything else should be handled by the code.\n",
        "\n",
        "---\n",
        "\n",
        "Note that not all of this code is our own. Some of it is sourced from: https://github.com/nikhilpodila/Modified-MNIST\n"
      ]
    },
    {
      "cell_type": "code",
      "metadata": {
        "id": "tAb77yZ9fzMG"
      },
      "source": [
        "# Install kaggle\n",
        "! pip install -q kaggle\n",
        "\n",
        "# Upload kaggle api key\n",
        "from google.colab import files\n",
        "files.upload()\n",
        "\n",
        "# Change file permissions\n",
        "! mkdir ~/.kaggle/\n",
        "! cp kaggle.json ~/.kaggle/\n",
        "! chmod 600 ~/.kaggle/kaggle.json\n",
        "\n",
        "# Download data from kaggle api\n",
        "! kaggle competitions download --force -c mais-202-fall-2020-kaggle-competition\n",
        "! unzip train_x.npy.zip\n",
        "! unzip test_x.npy.zip"
      ],
      "execution_count": null,
      "outputs": []
    },
    {
      "cell_type": "code",
      "metadata": {
        "id": "pafL7Li0jyXW"
      },
      "source": [
        "# Import libraries\n",
        "import numpy as np\n",
        "import cv2\n",
        "import matplotlib.pyplot as plt\n",
        "import pandas as pd\n",
        "import keras\n",
        "import h5py\n",
        "import os\n",
        "import seaborn as sns\n",
        "import matplotlib.pyplot as plt\n",
        "import tensorflow as tf\n",
        "import glob\n",
        "\n",
        "from keras.callbacks import ReduceLROnPlateau, LearningRateScheduler, ModelCheckpoint, Callback\n",
        "from keras.preprocessing.image import ImageDataGenerator\n",
        "from keras.models import Model, load_model, Sequential\n",
        "from keras.layers import Input, Dense, Dropout, Flatten, BatchNormalization, TimeDistributed, LSTM\n",
        "from keras.layers import Conv2D, MaxPooling2D, Activation, MaxPool2D\n",
        "from keras.utils import np_utils\n",
        "from keras.optimizers import SGD, Adam\n",
        "from keras.utils.np_utils import to_categorical,normalize\n",
        "from keras import backend as K\n",
        "from keras import optimizers\n",
        "\n",
        "from sklearn.model_selection import train_test_split\n",
        "from sklearn.metrics import classification_report, confusion_matrix, accuracy_score\n",
        "import warnings\n",
        "warnings.filterwarnings(\"ignore\")\n",
        "\n",
        "import datetime"
      ],
      "execution_count": 2,
      "outputs": []
    },
    {
      "cell_type": "code",
      "metadata": {
        "id": "FRy-p06h6QeE"
      },
      "source": [
        "# Load data\n",
        "train_images = np.load(\"train_x.npy\")\n",
        "test_images = np.load(\"test_x.npy\") \n",
        "thresh = 0.99  # An arbitrary number that worked\n",
        "\n",
        "thresh = 0.99\n",
        "for i in range(len(train_images)):\n",
        "  image = train_images[i]/255\n",
        "  binary = image > thresh\n",
        "  train_images[i] = binary.astype(int)\n",
        "\n",
        "thresh = 0.99\n",
        "for i in range(len(test_images)):\n",
        "  image = test_images[i]/255\n",
        "  binary = image > thresh\n",
        "  test_images[i] = binary.astype(int)\n",
        "\n",
        "train_y = pd.read_csv(\"train_y.csv\")[\"Label\"]\n",
        "\n",
        "def show_image(arr):\n",
        "    two_d = (np.reshape(arr, (128, 128)) * 255).astype(np.uint8)\n",
        "    plt.imshow(two_d, interpolation='nearest')\n",
        "    plt.show()"
      ],
      "execution_count": 3,
      "outputs": []
    },
    {
      "cell_type": "markdown",
      "metadata": {
        "id": "T9ziDFXuTQcp"
      },
      "source": [
        "## Preprocessing"
      ]
    },
    {
      "cell_type": "code",
      "metadata": {
        "id": "-Tp-BkuM6Ttf"
      },
      "source": [
        "# One hot encoding\n",
        "train_y = to_categorical(train_y)"
      ],
      "execution_count": 4,
      "outputs": []
    },
    {
      "cell_type": "code",
      "metadata": {
        "colab": {
          "base_uri": "https://localhost:8080/",
          "height": 285
        },
        "id": "fgWjnVz4606l",
        "outputId": "12d10e4f-885f-44eb-f2d1-5d35bb89a236"
      },
      "source": [
        "plt.imshow(train_images[5], cmap='gray')"
      ],
      "execution_count": 5,
      "outputs": [
        {
          "output_type": "execute_result",
          "data": {
            "text/plain": [
              "<matplotlib.image.AxesImage at 0x7f05a9f70710>"
            ]
          },
          "metadata": {
            "tags": []
          },
          "execution_count": 5
        },
        {
          "output_type": "display_data",
          "data": {
            "image/png": "[encoded data removed]",
            "text/plain": [
              "<Figure size 432x288 with 1 Axes>"
            ]
          },
          "metadata": {
            "tags": [],
            "needs_background": "light"
          }
        }
      ]
    },
    {
      "cell_type": "code",
      "metadata": {
        "id": "NWrFkV_x7fwq"
      },
      "source": [
        "# Reshape train images to 4D\n",
        "train_images = train_images.reshape(train_images.shape[0],128,128,1)\n",
        "test_images = test_images.reshape(test_images.shape[0],128,128,1)"
      ],
      "execution_count": 6,
      "outputs": []
    },
    {
      "cell_type": "code",
      "metadata": {
        "id": "9SobEipW706B"
      },
      "source": [
        "# Data splitting\n",
        "\n",
        "X_train, X_test, y_train, y_test = train_test_split(train_images, train_y, \n",
        "                                                    test_size=0.2, random_state=7)\n"
      ],
      "execution_count": 7,
      "outputs": []
    },
    {
      "cell_type": "code",
      "metadata": {
        "id": "a70Gkk1Y8cPx"
      },
      "source": [
        "# Data augmentation\n",
        "batch_size = 200\n",
        "\n",
        "datagen = ImageDataGenerator(\n",
        "    # rescale = 1. / 255,\n",
        "    rotation_range = 20,\n",
        "    width_shift_range=0.1,\n",
        "    shear_range=0.2,\n",
        "    height_shift_range=0.1,\n",
        "    zoom_range=0.2,\n",
        "    # validation_split=0.1\n",
        ")\n",
        "\n",
        "datagen.fit(X_train)"
      ],
      "execution_count": 8,
      "outputs": []
    },
    {
      "cell_type": "code",
      "metadata": {
        "colab": {
          "base_uri": "https://localhost:8080/",
          "height": 276
        },
        "id": "PUi8zTKu9C28",
        "outputId": "d3ce0a02-aeb3-4d52-8f1d-449b0c59435d"
      },
      "source": [
        "# Visualize data augmentation\n",
        "X_train3 = X_train[9,].reshape((1,128,128,1))\n",
        "Y_train3 = y_train[9,].reshape((1,10))\n",
        "plt.figure(figsize=(15,4.5))\n",
        "for i in range(30):  \n",
        "    plt.subplot(3, 10, i+1)\n",
        "    X_train2, Y_train2 = datagen.flow(X_train3,Y_train3).next()\n",
        "    plt.imshow(X_train2[0].reshape((128,128)),cmap=plt.cm.binary)\n",
        "    plt.axis('off')\n",
        "    if i==9: X_train3 = X_train[2,].reshape((1,128,128,1))\n",
        "    if i==19: X_train3 = X_train[10,].reshape((1,128,128,1))\n",
        "plt.subplots_adjust(wspace=-0.1, hspace=-0.1)\n",
        "plt.show()"
      ],
      "execution_count": 9,
      "outputs": [
        {
          "output_type": "display_data",
          "data": {
            "image/png": "[encoded data removed]",
            "text/plain": [
              "<Figure size 1080x324 with 30 Axes>"
            ]
          },
          "metadata": {
            "tags": [],
            "needs_background": "light"
          }
        }
      ]
    },
    {
      "cell_type": "code",
      "metadata": {
        "id": "MGIyJwHI9UTP"
      },
      "source": [
        "lr_reduction = ReduceLROnPlateau(monitor='val_accuracy',\n",
        "                                 patience=3,\n",
        "                                 verbose=1,\n",
        "                                 factor=0.5,\n",
        "                                 min_lr=0.00001)"
      ],
      "execution_count": 10,
      "outputs": []
    },
    {
      "cell_type": "markdown",
      "metadata": {
        "id": "por06DV8RR93"
      },
      "source": [
        "## Defining CNN Models\n",
        "Below are three models: baseline CNN, modified VGG, and VGG16. We only had the time to train the modified VGG and VGG16."
      ]
    },
    {
      "cell_type": "code",
      "metadata": {
        "id": "DwDuadFF9q8v"
      },
      "source": [
        "# Baseline CNN model\n",
        "def CNN(input_shape):\n",
        "\n",
        "  # One layer CNN\n",
        "  nets = 3\n",
        "  \n",
        "  # Model creation\n",
        "  model = tf.keras.models.Sequential()\n",
        "\n",
        "  # Model layers\n",
        "  model.add(Conv2D(16,kernel_size=5,padding='same',activation='relu',input_shape=input_shape))\n",
        "  model.add(MaxPool2D())\n",
        "  model.add(Conv2D(32,kernel_size=5,padding='same',activation='relu'))\n",
        "  model.add(MaxPool2D())\n",
        "  model.add(Conv2D(256,kernel_size=5,padding='same',activation='relu'))\n",
        "  model.add(MaxPool2D(padding='same'))\n",
        "  model.add(Flatten())\n",
        "  model.add(Dense(1024, activation='relu'))\n",
        "  model.add(Dropout(0.4))\n",
        "  model.add(Dense(10, activation='softmax'))\n",
        "  model.compile(optimizer=\"adam\", loss=\"categorical_crossentropy\", metrics=[\"accuracy\"])\n",
        "\n",
        "  return model\n",
        "\n",
        "# Checkpointing\n",
        "filepath=\"weights-improvement-trial_gen-{epoch:02d}-{val_accuracy:.2f}.hdf5\"\n",
        "checkpoint = ModelCheckpoint(filepath, monitor='val_accuracy', verbose=1, save_best_only=True, mode='max')\n",
        "callbacks_list = [checkpoint]\n"
      ],
      "execution_count": 11,
      "outputs": []
    },
    {
      "cell_type": "code",
      "metadata": {
        "id": "lKnjWIUGOnGG"
      },
      "source": [
        "# VGG16 model\n",
        "\n",
        "def VGG(input_shape, opt = SGD(lr=0.01, momentum=0.9)):\n",
        "\n",
        "  model = tf.keras.models.Sequential()\n",
        "\n",
        "  model.add(Conv2D(input_shape=input_shape,filters=64,kernel_size=(3,3),padding=\"same\", activation=\"relu\"))\n",
        "  model.add(Conv2D(filters=64,kernel_size=(3,3),padding=\"same\", activation=\"relu\"))\n",
        "  model.add(MaxPool2D(pool_size=(2,2),strides=(2,2)))\n",
        "  model.add(BatchNormalization())\n",
        "  model.add(Dropout(0.2))\n",
        "\n",
        "  model.add(Conv2D(filters=128, kernel_size=(3,3), padding=\"same\", activation=\"relu\"))\n",
        "  model.add(Conv2D(filters=128, kernel_size=(3,3), padding=\"same\", activation=\"relu\"))\n",
        "  model.add(MaxPool2D(pool_size=(2,2),strides=(2,2)))\n",
        "  model.add(BatchNormalization())\n",
        "  model.add(Dropout(0.2))\n",
        "\n",
        "  model.add(Conv2D(filters=256, kernel_size=(3,3), padding=\"same\", activation=\"relu\"))\n",
        "  model.add(Conv2D(filters=256, kernel_size=(3,3), padding=\"same\", activation=\"relu\"))\n",
        "  model.add(Conv2D(filters=256, kernel_size=(3,3), padding=\"same\", activation=\"relu\"))\n",
        "  model.add(MaxPool2D(pool_size=(2,2),strides=(2,2)))\n",
        "  model.add(BatchNormalization())\n",
        "  model.add(Dropout(0.2))\n",
        "\n",
        "  model.add(Conv2D(filters=512, kernel_size=(3,3), padding=\"same\", activation=\"relu\"))\n",
        "  model.add(Conv2D(filters=512, kernel_size=(3,3), padding=\"same\", activation=\"relu\"))\n",
        "  model.add(Conv2D(filters=512, kernel_size=(3,3), padding=\"same\", activation=\"relu\"))\n",
        "  model.add(MaxPool2D(pool_size=(2,2),strides=(2,2)))\n",
        "  model.add(BatchNormalization())\n",
        "  model.add(Dropout(0.2))\n",
        "\n",
        "  model.add(Conv2D(filters=512, kernel_size=(3,3), padding=\"same\", activation=\"relu\"))\n",
        "  model.add(Conv2D(filters=512, kernel_size=(3,3), padding=\"same\", activation=\"relu\"))\n",
        "  model.add(Conv2D(filters=512, kernel_size=(3,3), padding=\"same\", activation=\"relu\"))\n",
        "  model.add(MaxPool2D(pool_size=(2,2),strides=(2,2)))\n",
        "  model.add(BatchNormalization())\n",
        "  model.add(Dropout(0.2))\n",
        "\n",
        "  model.add(Flatten())\n",
        "  model.add(Dense(units=1024,activation=\"relu\"))\n",
        "  model.add(Dense(units=1024,activation=\"relu\"))\n",
        "  model.add(Dense(units=10, activation=\"softmax\"))\n",
        "\n",
        "  model.compile(loss='categorical_crossentropy', optimizer=opt, metrics=['accuracy'])\n",
        "  return model"
      ],
      "execution_count": 12,
      "outputs": []
    },
    {
      "cell_type": "code",
      "metadata": {
        "id": "ltt3MGORAlZb"
      },
      "source": [
        "# Modified VGG model\n",
        "\n",
        "def VGG_modified(input_shape, opt = optimizers.Adam(learning_rate=1e-4)):\n",
        "    model = tf.keras.models.Sequential()\n",
        "    \n",
        "    model.add(Conv2D(32, kernel_size=(3, 3), padding=\"same\", activation='relu', input_shape=input_shape,\n",
        "                            data_format=\"channels_last\"))\n",
        "    model.add(Conv2D(32, kernel_size=(3, 3), padding=\"same\", activation='relu'))\n",
        "    model.add(Conv2D(32, kernel_size=(3, 3), padding=\"same\", activation='relu'))\n",
        "    model.add(BatchNormalization())\n",
        "    model.add(MaxPool2D(pool_size=(2, 2)))\n",
        "    model.add(Dropout(0.2))\n",
        "\n",
        "    model.add(Conv2D(64, kernel_size=(3, 3), padding=\"same\", activation='relu'))\n",
        "    model.add(Conv2D(64, kernel_size=(3, 3), padding=\"same\", activation='relu'))\n",
        "    model.add(Conv2D(64, kernel_size=(3, 3), padding=\"same\", activation='relu'))\n",
        "    model.add(BatchNormalization())\n",
        "    model.add(MaxPool2D(pool_size=(2, 2)))\n",
        "    model.add(Dropout(0.2))\n",
        "\n",
        "    model.add(Conv2D(128, kernel_size=(3, 3), padding=\"same\", activation='relu'))\n",
        "    model.add(Conv2D(128, kernel_size=(3, 3), padding=\"same\", activation='relu'))\n",
        "    model.add(Conv2D(128, kernel_size=(3, 3), padding=\"same\", activation='relu'))\n",
        "    model.add(BatchNormalization())\n",
        "    model.add(MaxPool2D(pool_size=(2, 2)))\n",
        "    model.add(Dropout(0.2))\n",
        "\n",
        "    model.add(Conv2D(256, kernel_size=(3, 3), padding=\"same\", activation='relu'))\n",
        "    model.add(Conv2D(256, kernel_size=(3, 3), padding=\"same\", activation='relu'))\n",
        "    model.add(Conv2D(256, kernel_size=(3, 3), padding=\"same\", activation='relu'))\n",
        "    model.add(BatchNormalization())\n",
        "    model.add(MaxPool2D(pool_size=(2, 2)))\n",
        "    model.add(Dropout(0.2))\n",
        "\n",
        "    model.add(Flatten())\n",
        "    model.add(Dense(512, activation='relu'))\n",
        "    model.add(Dense(512, activation='relu'))\n",
        "    model.add(Dropout(0.5))\n",
        "    model.add(Dense(10, activation='softmax'))\n",
        "    \n",
        "    #sgd=SGD(lr=0.01, decay=1e-6, momentum=0.9, nesterov=True)\n",
        "    model.compile(loss='categorical_crossentropy', optimizer=opt, metrics=['accuracy'])\n",
        "    return model\n",
        "\n",
        "# Checkpointing\n",
        "filepath=\"weights-improvement-trial-randomstate_7.hdf5\"\n",
        "checkpoint = ModelCheckpoint(filepath, monitor='val_accuracy', verbose=1, save_best_only=True, mode='max')\n",
        "callbacks_list = [checkpoint]"
      ],
      "execution_count": 13,
      "outputs": []
    },
    {
      "cell_type": "code",
      "metadata": {
        "id": "f6ckHiAy-oMp"
      },
      "source": [
        "# Metrics to be updated\n",
        "class DisplayMetrics(Callback):\n",
        "    def __init__(self, filename):\n",
        "        self.filename = filename\n",
        "        pass\n",
        "    \n",
        "    def on_epoch_end(self, epoch, logs={}):\n",
        "        with open(self.filename, \"a\") as f:\n",
        "            for k,v in logs.items():\n",
        "                f.write(str(k)+\",\"+str(v)+\",\")\n",
        "                pass\n",
        "            f.write(\"\\n\")\n",
        "            pass\n",
        "        pass\n",
        "    pass\n",
        "pass\n",
        "\n",
        "callbacks_list += [DisplayMetrics(\"logging_doctrialstate_7.csv\")]"
      ],
      "execution_count": 14,
      "outputs": []
    },
    {
      "cell_type": "markdown",
      "metadata": {
        "id": "Y1cgC9U_Rlwx"
      },
      "source": [
        "## Model training"
      ]
    },
    {
      "cell_type": "code",
      "metadata": {
        "colab": {
          "base_uri": "https://localhost:8080/"
        },
        "id": "b7Y94Vox_R4W",
        "outputId": "1b915246-7833-42b8-fe6f-8d33e4c83482"
      },
      "source": [
        "model1 = VGG((128,128,1))\n",
        "\n",
        "logdir = os.path.join(\"./tensorboard_trial/log_20191110_load1\", datetime.datetime.now().strftime(\"%Y%m%d-%H%M%S\"))\n",
        "tensorboard_callback = tf.keras.callbacks.TensorBoard(logdir, histogram_freq=0)\n",
        "callbacks_list += [tensorboard_callback]\n",
        "\n",
        "history1 = model1.fit(datagen.flow(X_train, y_train, batch_size=200),\n",
        "                              validation_data=(X_test, y_test),\n",
        "                              epochs = 85, callbacks=callbacks_list )"
      ],
      "execution_count": 15,
      "outputs": [
        {
          "output_type": "stream",
          "text": [
            "Epoch 1/85\n",
            "  1/160 [..............................] - ETA: 0s - loss: 2.7181 - accuracy: 0.1100WARNING:tensorflow:From /usr/local/lib/python3.6/dist-packages/tensorflow/python/ops/summary_ops_v2.py:1277: stop (from tensorflow.python.eager.profiler) is deprecated and will be removed after 2020-07-01.\n",
            "Instructions for updating:\n",
            "use `tf.profiler.experimental.stop` instead.\n",
            "  2/160 [..............................] - ETA: 38s - loss: 2.4059 - accuracy: 0.2100WARNING:tensorflow:Callbacks method `on_train_batch_end` is slow compared to the batch time (batch time: 0.1449s vs `on_train_batch_end` time: 0.3444s). Check your callbacks.\n",
            "160/160 [==============================] - ETA: 0s - loss: 1.9458 - accuracy: 0.2545WARNING:tensorflow:Callbacks method `on_test_batch_end` is slow compared to the batch time (batch time: 0.0029s vs `on_test_batch_end` time: 0.0197s). Check your callbacks.\n",
            "\n",
            "Epoch 00001: val_accuracy improved from -inf to 0.26600, saving model to weights-improvement-trial-randomstate_7.hdf5\n",
            "160/160 [==============================] - 73s 458ms/step - loss: 1.9458 - accuracy: 0.2545 - val_loss: 1.9503 - val_accuracy: 0.2660\n",
            "Epoch 2/85\n",
            "160/160 [==============================] - ETA: 0s - loss: 1.7385 - accuracy: 0.3534\n",
            "Epoch 00002: val_accuracy did not improve from 0.26600\n",
            "160/160 [==============================] - 72s 452ms/step - loss: 1.7385 - accuracy: 0.3534 - val_loss: 2.4607 - val_accuracy: 0.1781\n",
            "Epoch 3/85\n",
            "160/160 [==============================] - ETA: 0s - loss: 1.5959 - accuracy: 0.3993\n",
            "Epoch 00003: val_accuracy did not improve from 0.26600\n",
            "160/160 [==============================] - 72s 452ms/step - loss: 1.5959 - accuracy: 0.3993 - val_loss: 2.1136 - val_accuracy: 0.2660\n",
            "Epoch 4/85\n",
            "160/160 [==============================] - ETA: 0s - loss: 1.4616 - accuracy: 0.4453\n",
            "Epoch 00004: val_accuracy did not improve from 0.26600\n",
            "160/160 [==============================] - 72s 452ms/step - loss: 1.4616 - accuracy: 0.4453 - val_loss: 3.1610 - val_accuracy: 0.2145\n",
            "Epoch 5/85\n",
            "160/160 [==============================] - ETA: 0s - loss: 1.2592 - accuracy: 0.5409\n",
            "Epoch 00005: val_accuracy did not improve from 0.26600\n",
            "160/160 [==============================] - 72s 452ms/step - loss: 1.2592 - accuracy: 0.5409 - val_loss: 3.6512 - val_accuracy: 0.1275\n",
            "Epoch 6/85\n",
            "160/160 [==============================] - ETA: 0s - loss: 0.9219 - accuracy: 0.6849\n",
            "Epoch 00006: val_accuracy improved from 0.26600 to 0.48162, saving model to weights-improvement-trial-randomstate_7.hdf5\n",
            "160/160 [==============================] - 73s 454ms/step - loss: 0.9219 - accuracy: 0.6849 - val_loss: 1.4986 - val_accuracy: 0.4816\n",
            "Epoch 7/85\n",
            "160/160 [==============================] - ETA: 0s - loss: 0.7448 - accuracy: 0.7487\n",
            "Epoch 00007: val_accuracy did not improve from 0.48162\n",
            "160/160 [==============================] - 72s 452ms/step - loss: 0.7448 - accuracy: 0.7487 - val_loss: 1.3264 - val_accuracy: 0.4308\n",
            "Epoch 8/85\n",
            "160/160 [==============================] - ETA: 0s - loss: 0.6028 - accuracy: 0.8084\n",
            "Epoch 00008: val_accuracy improved from 0.48162 to 0.76162, saving model to weights-improvement-trial-randomstate_7.hdf5\n",
            "160/160 [==============================] - 73s 454ms/step - loss: 0.6028 - accuracy: 0.8084 - val_loss: 0.8549 - val_accuracy: 0.7616\n",
            "Epoch 9/85\n",
            "160/160 [==============================] - ETA: 0s - loss: 0.5020 - accuracy: 0.8432\n",
            "Epoch 00009: val_accuracy did not improve from 0.76162\n",
            "160/160 [==============================] - 72s 452ms/step - loss: 0.5020 - accuracy: 0.8432 - val_loss: 0.8336 - val_accuracy: 0.7405\n",
            "Epoch 10/85\n",
            "160/160 [==============================] - ETA: 0s - loss: 0.4416 - accuracy: 0.8634\n",
            "Epoch 00010: val_accuracy improved from 0.76162 to 0.80137, saving model to weights-improvement-trial-randomstate_7.hdf5\n",
            "160/160 [==============================] - 73s 454ms/step - loss: 0.4416 - accuracy: 0.8634 - val_loss: 0.7972 - val_accuracy: 0.8014\n",
            "Epoch 11/85\n",
            "160/160 [==============================] - ETA: 0s - loss: 0.3935 - accuracy: 0.8778\n",
            "Epoch 00011: val_accuracy did not improve from 0.80137\n",
            "160/160 [==============================] - 72s 452ms/step - loss: 0.3935 - accuracy: 0.8778 - val_loss: 1.3611 - val_accuracy: 0.6672\n",
            "Epoch 12/85\n",
            "160/160 [==============================] - ETA: 0s - loss: 0.3535 - accuracy: 0.8909\n",
            "Epoch 00012: val_accuracy improved from 0.80137 to 0.84100, saving model to weights-improvement-trial-randomstate_7.hdf5\n",
            "160/160 [==============================] - 73s 454ms/step - loss: 0.3535 - accuracy: 0.8909 - val_loss: 0.5850 - val_accuracy: 0.8410\n",
            "Epoch 13/85\n",
            "160/160 [==============================] - ETA: 0s - loss: 0.3401 - accuracy: 0.8951\n",
            "Epoch 00013: val_accuracy improved from 0.84100 to 0.85787, saving model to weights-improvement-trial-randomstate_7.hdf5\n",
            "160/160 [==============================] - 73s 454ms/step - loss: 0.3401 - accuracy: 0.8951 - val_loss: 0.4465 - val_accuracy: 0.8579\n",
            "Epoch 14/85\n",
            "160/160 [==============================] - ETA: 0s - loss: 0.3161 - accuracy: 0.9016\n",
            "Epoch 00014: val_accuracy did not improve from 0.85787\n",
            "160/160 [==============================] - 72s 452ms/step - loss: 0.3161 - accuracy: 0.9016 - val_loss: 0.7684 - val_accuracy: 0.8145\n",
            "Epoch 15/85\n",
            "160/160 [==============================] - ETA: 0s - loss: 0.3019 - accuracy: 0.9081\n",
            "Epoch 00015: val_accuracy improved from 0.85787 to 0.92525, saving model to weights-improvement-trial-randomstate_7.hdf5\n",
            "160/160 [==============================] - 73s 454ms/step - loss: 0.3019 - accuracy: 0.9081 - val_loss: 0.2656 - val_accuracy: 0.9252\n",
            "Epoch 16/85\n",
            "160/160 [==============================] - ETA: 0s - loss: 0.2907 - accuracy: 0.9103\n",
            "Epoch 00016: val_accuracy did not improve from 0.92525\n",
            "160/160 [==============================] - 72s 452ms/step - loss: 0.2907 - accuracy: 0.9103 - val_loss: 0.9451 - val_accuracy: 0.8091\n",
            "Epoch 17/85\n",
            "160/160 [==============================] - ETA: 0s - loss: 0.2729 - accuracy: 0.9152\n",
            "Epoch 00017: val_accuracy did not improve from 0.92525\n",
            "160/160 [==============================] - 72s 452ms/step - loss: 0.2729 - accuracy: 0.9152 - val_loss: 0.5534 - val_accuracy: 0.8867\n",
            "Epoch 18/85\n",
            "160/160 [==============================] - ETA: 0s - loss: 0.2737 - accuracy: 0.9154\n",
            "Epoch 00018: val_accuracy did not improve from 0.92525\n",
            "160/160 [==============================] - 72s 452ms/step - loss: 0.2737 - accuracy: 0.9154 - val_loss: 0.7444 - val_accuracy: 0.8295\n",
            "Epoch 19/85\n",
            "160/160 [==============================] - ETA: 0s - loss: 0.2578 - accuracy: 0.9186\n",
            "Epoch 00019: val_accuracy did not improve from 0.92525\n",
            "160/160 [==============================] - 72s 452ms/step - loss: 0.2578 - accuracy: 0.9186 - val_loss: 0.3983 - val_accuracy: 0.9039\n",
            "Epoch 20/85\n",
            "160/160 [==============================] - ETA: 0s - loss: 0.2474 - accuracy: 0.9222\n",
            "Epoch 00020: val_accuracy did not improve from 0.92525\n",
            "160/160 [==============================] - 72s 452ms/step - loss: 0.2474 - accuracy: 0.9222 - val_loss: 0.4705 - val_accuracy: 0.8825\n",
            "Epoch 21/85\n",
            "160/160 [==============================] - ETA: 0s - loss: 0.2408 - accuracy: 0.9246\n",
            "Epoch 00021: val_accuracy improved from 0.92525 to 0.93787, saving model to weights-improvement-trial-randomstate_7.hdf5\n",
            "160/160 [==============================] - 73s 454ms/step - loss: 0.2408 - accuracy: 0.9246 - val_loss: 0.2502 - val_accuracy: 0.9379\n",
            "Epoch 22/85\n",
            "160/160 [==============================] - ETA: 0s - loss: 0.2413 - accuracy: 0.9261\n",
            "Epoch 00022: val_accuracy did not improve from 0.93787\n",
            "160/160 [==============================] - 72s 452ms/step - loss: 0.2413 - accuracy: 0.9261 - val_loss: 0.8687 - val_accuracy: 0.8407\n",
            "Epoch 23/85\n",
            "160/160 [==============================] - ETA: 0s - loss: 0.2283 - accuracy: 0.9277\n",
            "Epoch 00023: val_accuracy improved from 0.93787 to 0.94575, saving model to weights-improvement-trial-randomstate_7.hdf5\n",
            "160/160 [==============================] - 73s 454ms/step - loss: 0.2283 - accuracy: 0.9277 - val_loss: 0.2058 - val_accuracy: 0.9457\n",
            "Epoch 24/85\n",
            "160/160 [==============================] - ETA: 0s - loss: 0.2273 - accuracy: 0.9282\n",
            "Epoch 00024: val_accuracy did not improve from 0.94575\n",
            "160/160 [==============================] - 72s 452ms/step - loss: 0.2273 - accuracy: 0.9282 - val_loss: 0.4944 - val_accuracy: 0.9129\n",
            "Epoch 25/85\n",
            "160/160 [==============================] - ETA: 0s - loss: 0.2135 - accuracy: 0.9321\n",
            "Epoch 00025: val_accuracy did not improve from 0.94575\n",
            "160/160 [==============================] - 72s 452ms/step - loss: 0.2135 - accuracy: 0.9321 - val_loss: 0.9134 - val_accuracy: 0.8393\n",
            "Epoch 26/85\n",
            "160/160 [==============================] - ETA: 0s - loss: 0.2140 - accuracy: 0.9335\n",
            "Epoch 00026: val_accuracy improved from 0.94575 to 0.96375, saving model to weights-improvement-trial-randomstate_7.hdf5\n",
            "160/160 [==============================] - 73s 454ms/step - loss: 0.2140 - accuracy: 0.9335 - val_loss: 0.1432 - val_accuracy: 0.9638\n",
            "Epoch 27/85\n",
            "160/160 [==============================] - ETA: 0s - loss: 0.2089 - accuracy: 0.9337\n",
            "Epoch 00027: val_accuracy did not improve from 0.96375\n",
            "160/160 [==============================] - 72s 453ms/step - loss: 0.2089 - accuracy: 0.9337 - val_loss: 0.1502 - val_accuracy: 0.9630\n",
            "Epoch 28/85\n",
            "160/160 [==============================] - ETA: 0s - loss: 0.2057 - accuracy: 0.9348\n",
            "Epoch 00028: val_accuracy did not improve from 0.96375\n",
            "160/160 [==============================] - 72s 452ms/step - loss: 0.2057 - accuracy: 0.9348 - val_loss: 0.2097 - val_accuracy: 0.9479\n",
            "Epoch 29/85\n",
            "160/160 [==============================] - ETA: 0s - loss: 0.1999 - accuracy: 0.9369\n",
            "Epoch 00029: val_accuracy did not improve from 0.96375\n",
            "160/160 [==============================] - 72s 452ms/step - loss: 0.1999 - accuracy: 0.9369 - val_loss: 0.2222 - val_accuracy: 0.9528\n",
            "Epoch 30/85\n",
            "160/160 [==============================] - ETA: 0s - loss: 0.1904 - accuracy: 0.9398\n",
            "Epoch 00030: val_accuracy did not improve from 0.96375\n",
            "160/160 [==============================] - 72s 452ms/step - loss: 0.1904 - accuracy: 0.9398 - val_loss: 0.3829 - val_accuracy: 0.8695\n",
            "Epoch 31/85\n",
            "160/160 [==============================] - ETA: 0s - loss: 0.1948 - accuracy: 0.9369\n",
            "Epoch 00031: val_accuracy did not improve from 0.96375\n",
            "160/160 [==============================] - 72s 452ms/step - loss: 0.1948 - accuracy: 0.9369 - val_loss: 0.1871 - val_accuracy: 0.9498\n",
            "Epoch 32/85\n",
            "160/160 [==============================] - ETA: 0s - loss: 0.1889 - accuracy: 0.9391\n",
            "Epoch 00032: val_accuracy did not improve from 0.96375\n",
            "160/160 [==============================] - 72s 452ms/step - loss: 0.1889 - accuracy: 0.9391 - val_loss: 0.4411 - val_accuracy: 0.8622\n",
            "Epoch 33/85\n",
            "160/160 [==============================] - ETA: 0s - loss: 0.1850 - accuracy: 0.9398\n",
            "Epoch 00033: val_accuracy did not improve from 0.96375\n",
            "160/160 [==============================] - 72s 452ms/step - loss: 0.1850 - accuracy: 0.9398 - val_loss: 0.1565 - val_accuracy: 0.9607\n",
            "Epoch 34/85\n",
            "160/160 [==============================] - ETA: 0s - loss: 0.1828 - accuracy: 0.9405\n",
            "Epoch 00034: val_accuracy did not improve from 0.96375\n",
            "160/160 [==============================] - 72s 452ms/step - loss: 0.1828 - accuracy: 0.9405 - val_loss: 0.1389 - val_accuracy: 0.9591\n",
            "Epoch 35/85\n",
            "160/160 [==============================] - ETA: 0s - loss: 0.1788 - accuracy: 0.9411\n",
            "Epoch 00035: val_accuracy did not improve from 0.96375\n",
            "160/160 [==============================] - 72s 452ms/step - loss: 0.1788 - accuracy: 0.9411 - val_loss: 0.1865 - val_accuracy: 0.9610\n",
            "Epoch 36/85\n",
            "160/160 [==============================] - ETA: 0s - loss: 0.1808 - accuracy: 0.9422\n",
            "Epoch 00036: val_accuracy improved from 0.96375 to 0.96750, saving model to weights-improvement-trial-randomstate_7.hdf5\n",
            "160/160 [==============================] - 73s 454ms/step - loss: 0.1808 - accuracy: 0.9422 - val_loss: 0.1550 - val_accuracy: 0.9675\n",
            "Epoch 37/85\n",
            "160/160 [==============================] - ETA: 0s - loss: 0.1750 - accuracy: 0.9418\n",
            "Epoch 00037: val_accuracy did not improve from 0.96750\n",
            "160/160 [==============================] - 72s 452ms/step - loss: 0.1750 - accuracy: 0.9418 - val_loss: 0.1607 - val_accuracy: 0.9578\n",
            "Epoch 38/85\n",
            "160/160 [==============================] - ETA: 0s - loss: 0.1763 - accuracy: 0.9415\n",
            "Epoch 00038: val_accuracy improved from 0.96750 to 0.96788, saving model to weights-improvement-trial-randomstate_7.hdf5\n",
            "160/160 [==============================] - 73s 454ms/step - loss: 0.1763 - accuracy: 0.9415 - val_loss: 0.1435 - val_accuracy: 0.9679\n",
            "Epoch 39/85\n",
            "160/160 [==============================] - ETA: 0s - loss: 0.1663 - accuracy: 0.9459\n",
            "Epoch 00039: val_accuracy did not improve from 0.96788\n",
            "160/160 [==============================] - 72s 452ms/step - loss: 0.1663 - accuracy: 0.9459 - val_loss: 0.2196 - val_accuracy: 0.9427\n",
            "Epoch 40/85\n",
            "160/160 [==============================] - ETA: 0s - loss: 0.1687 - accuracy: 0.9443\n",
            "Epoch 00040: val_accuracy did not improve from 0.96788\n",
            "160/160 [==============================] - 72s 452ms/step - loss: 0.1687 - accuracy: 0.9443 - val_loss: 0.1331 - val_accuracy: 0.9620\n",
            "Epoch 41/85\n",
            "160/160 [==============================] - ETA: 0s - loss: 0.1685 - accuracy: 0.9447\n",
            "Epoch 00041: val_accuracy improved from 0.96788 to 0.96925, saving model to weights-improvement-trial-randomstate_7.hdf5\n",
            "160/160 [==============================] - 73s 454ms/step - loss: 0.1685 - accuracy: 0.9447 - val_loss: 0.1333 - val_accuracy: 0.9693\n",
            "Epoch 42/85\n",
            "160/160 [==============================] - ETA: 0s - loss: 0.1622 - accuracy: 0.9465\n",
            "Epoch 00042: val_accuracy did not improve from 0.96925\n",
            "160/160 [==============================] - 72s 452ms/step - loss: 0.1622 - accuracy: 0.9465 - val_loss: 0.2374 - val_accuracy: 0.9506\n",
            "Epoch 43/85\n",
            "160/160 [==============================] - ETA: 0s - loss: 0.1592 - accuracy: 0.9478\n",
            "Epoch 00043: val_accuracy did not improve from 0.96925\n",
            "160/160 [==============================] - 72s 452ms/step - loss: 0.1592 - accuracy: 0.9478 - val_loss: 0.3607 - val_accuracy: 0.8827\n",
            "Epoch 44/85\n",
            "160/160 [==============================] - ETA: 0s - loss: 0.1585 - accuracy: 0.9469\n",
            "Epoch 00044: val_accuracy did not improve from 0.96925\n",
            "160/160 [==============================] - 72s 452ms/step - loss: 0.1585 - accuracy: 0.9469 - val_loss: 0.1641 - val_accuracy: 0.9599\n",
            "Epoch 45/85\n",
            "160/160 [==============================] - ETA: 0s - loss: 0.1603 - accuracy: 0.9473\n",
            "Epoch 00045: val_accuracy did not improve from 0.96925\n",
            "160/160 [==============================] - 72s 452ms/step - loss: 0.1603 - accuracy: 0.9473 - val_loss: 0.5071 - val_accuracy: 0.8785\n",
            "Epoch 46/85\n",
            "160/160 [==============================] - ETA: 0s - loss: 0.1544 - accuracy: 0.9487\n",
            "Epoch 00046: val_accuracy did not improve from 0.96925\n",
            "160/160 [==============================] - 72s 452ms/step - loss: 0.1544 - accuracy: 0.9487 - val_loss: 0.1285 - val_accuracy: 0.9634\n",
            "Epoch 47/85\n",
            "160/160 [==============================] - ETA: 0s - loss: 0.1546 - accuracy: 0.9488\n",
            "Epoch 00047: val_accuracy did not improve from 0.96925\n",
            "160/160 [==============================] - 72s 452ms/step - loss: 0.1546 - accuracy: 0.9488 - val_loss: 0.2131 - val_accuracy: 0.9569\n",
            "Epoch 48/85\n",
            "160/160 [==============================] - ETA: 0s - loss: 0.1486 - accuracy: 0.9505\n",
            "Epoch 00048: val_accuracy did not improve from 0.96925\n",
            "160/160 [==============================] - 72s 452ms/step - loss: 0.1486 - accuracy: 0.9505 - val_loss: 0.1435 - val_accuracy: 0.9601\n",
            "Epoch 49/85\n",
            "160/160 [==============================] - ETA: 0s - loss: 0.1477 - accuracy: 0.9509\n",
            "Epoch 00049: val_accuracy improved from 0.96925 to 0.97113, saving model to weights-improvement-trial-randomstate_7.hdf5\n",
            "160/160 [==============================] - 73s 454ms/step - loss: 0.1477 - accuracy: 0.9509 - val_loss: 0.1152 - val_accuracy: 0.9711\n",
            "Epoch 50/85\n",
            "160/160 [==============================] - ETA: 0s - loss: 0.1502 - accuracy: 0.9494\n",
            "Epoch 00050: val_accuracy did not improve from 0.97113\n",
            "160/160 [==============================] - 72s 452ms/step - loss: 0.1502 - accuracy: 0.9494 - val_loss: 0.1636 - val_accuracy: 0.9693\n",
            "Epoch 51/85\n",
            "160/160 [==============================] - ETA: 0s - loss: 0.1500 - accuracy: 0.9488\n",
            "Epoch 00051: val_accuracy did not improve from 0.97113\n",
            "160/160 [==============================] - 72s 452ms/step - loss: 0.1500 - accuracy: 0.9488 - val_loss: 0.1344 - val_accuracy: 0.9686\n",
            "Epoch 52/85\n",
            "160/160 [==============================] - ETA: 0s - loss: 0.1468 - accuracy: 0.9500\n",
            "Epoch 00052: val_accuracy did not improve from 0.97113\n",
            "160/160 [==============================] - 72s 452ms/step - loss: 0.1468 - accuracy: 0.9500 - val_loss: 0.1340 - val_accuracy: 0.9651\n",
            "Epoch 53/85\n",
            "160/160 [==============================] - ETA: 0s - loss: 0.1427 - accuracy: 0.9532\n",
            "Epoch 00053: val_accuracy did not improve from 0.97113\n",
            "160/160 [==============================] - 72s 452ms/step - loss: 0.1427 - accuracy: 0.9532 - val_loss: 0.2885 - val_accuracy: 0.9179\n",
            "Epoch 54/85\n",
            "160/160 [==============================] - ETA: 0s - loss: 0.1475 - accuracy: 0.9508\n",
            "Epoch 00054: val_accuracy did not improve from 0.97113\n",
            "160/160 [==============================] - 72s 452ms/step - loss: 0.1475 - accuracy: 0.9508 - val_loss: 0.2933 - val_accuracy: 0.9250\n",
            "Epoch 55/85\n",
            "160/160 [==============================] - ETA: 0s - loss: 0.1432 - accuracy: 0.9522\n",
            "Epoch 00055: val_accuracy improved from 0.97113 to 0.97237, saving model to weights-improvement-trial-randomstate_7.hdf5\n",
            "160/160 [==============================] - 73s 454ms/step - loss: 0.1432 - accuracy: 0.9522 - val_loss: 0.1044 - val_accuracy: 0.9724\n",
            "Epoch 56/85\n",
            "160/160 [==============================] - ETA: 0s - loss: 0.1427 - accuracy: 0.9518\n",
            "Epoch 00056: val_accuracy did not improve from 0.97237\n",
            "160/160 [==============================] - 72s 452ms/step - loss: 0.1427 - accuracy: 0.9518 - val_loss: 0.1399 - val_accuracy: 0.9689\n",
            "Epoch 57/85\n",
            "160/160 [==============================] - ETA: 0s - loss: 0.1433 - accuracy: 0.9516\n",
            "Epoch 00057: val_accuracy did not improve from 0.97237\n",
            "160/160 [==============================] - 72s 452ms/step - loss: 0.1433 - accuracy: 0.9516 - val_loss: 0.4551 - val_accuracy: 0.9126\n",
            "Epoch 58/85\n",
            "160/160 [==============================] - ETA: 0s - loss: 0.1388 - accuracy: 0.9548\n",
            "Epoch 00058: val_accuracy did not improve from 0.97237\n",
            "160/160 [==============================] - 72s 452ms/step - loss: 0.1388 - accuracy: 0.9548 - val_loss: 0.1754 - val_accuracy: 0.9663\n",
            "Epoch 59/85\n",
            "160/160 [==============================] - ETA: 0s - loss: 0.1325 - accuracy: 0.9548\n",
            "Epoch 00059: val_accuracy did not improve from 0.97237\n",
            "160/160 [==============================] - 72s 452ms/step - loss: 0.1325 - accuracy: 0.9548 - val_loss: 0.3805 - val_accuracy: 0.9040\n",
            "Epoch 60/85\n",
            "160/160 [==============================] - ETA: 0s - loss: 0.1380 - accuracy: 0.9528\n",
            "Epoch 00060: val_accuracy did not improve from 0.97237\n",
            "160/160 [==============================] - 72s 452ms/step - loss: 0.1380 - accuracy: 0.9528 - val_loss: 0.2215 - val_accuracy: 0.9588\n",
            "Epoch 61/85\n",
            "160/160 [==============================] - ETA: 0s - loss: 0.1355 - accuracy: 0.9557\n",
            "Epoch 00061: val_accuracy improved from 0.97237 to 0.97525, saving model to weights-improvement-trial-randomstate_7.hdf5\n",
            "160/160 [==============================] - 73s 455ms/step - loss: 0.1355 - accuracy: 0.9557 - val_loss: 0.1004 - val_accuracy: 0.9753\n",
            "Epoch 62/85\n",
            "160/160 [==============================] - ETA: 0s - loss: 0.1294 - accuracy: 0.9560\n",
            "Epoch 00062: val_accuracy did not improve from 0.97525\n",
            "160/160 [==============================] - 72s 452ms/step - loss: 0.1294 - accuracy: 0.9560 - val_loss: 0.1281 - val_accuracy: 0.9690\n",
            "Epoch 63/85\n",
            "160/160 [==============================] - ETA: 0s - loss: 0.1337 - accuracy: 0.9541\n",
            "Epoch 00063: val_accuracy did not improve from 0.97525\n",
            "160/160 [==============================] - 72s 452ms/step - loss: 0.1337 - accuracy: 0.9541 - val_loss: 2.3577 - val_accuracy: 0.7170\n",
            "Epoch 64/85\n",
            "160/160 [==============================] - ETA: 0s - loss: 0.1327 - accuracy: 0.9547\n",
            "Epoch 00064: val_accuracy did not improve from 0.97525\n",
            "160/160 [==============================] - 72s 452ms/step - loss: 0.1327 - accuracy: 0.9547 - val_loss: 0.2510 - val_accuracy: 0.9389\n",
            "Epoch 65/85\n",
            "160/160 [==============================] - ETA: 0s - loss: 0.1243 - accuracy: 0.9567\n",
            "Epoch 00065: val_accuracy did not improve from 0.97525\n",
            "160/160 [==============================] - 72s 452ms/step - loss: 0.1243 - accuracy: 0.9567 - val_loss: 0.1267 - val_accuracy: 0.9678\n",
            "Epoch 66/85\n",
            "160/160 [==============================] - ETA: 0s - loss: 0.1298 - accuracy: 0.9560\n",
            "Epoch 00066: val_accuracy did not improve from 0.97525\n",
            "160/160 [==============================] - 72s 452ms/step - loss: 0.1298 - accuracy: 0.9560 - val_loss: 0.1163 - val_accuracy: 0.9746\n",
            "Epoch 67/85\n",
            "160/160 [==============================] - ETA: 0s - loss: 0.1303 - accuracy: 0.9555\n",
            "Epoch 00067: val_accuracy did not improve from 0.97525\n",
            "160/160 [==============================] - 72s 452ms/step - loss: 0.1303 - accuracy: 0.9555 - val_loss: 0.1963 - val_accuracy: 0.9523\n",
            "Epoch 68/85\n",
            "160/160 [==============================] - ETA: 0s - loss: 0.1270 - accuracy: 0.9567\n",
            "Epoch 00068: val_accuracy did not improve from 0.97525\n",
            "160/160 [==============================] - 72s 452ms/step - loss: 0.1270 - accuracy: 0.9567 - val_loss: 0.1175 - val_accuracy: 0.9730\n",
            "Epoch 69/85\n",
            "160/160 [==============================] - ETA: 0s - loss: 0.1241 - accuracy: 0.9568\n",
            "Epoch 00069: val_accuracy did not improve from 0.97525\n",
            "160/160 [==============================] - 72s 452ms/step - loss: 0.1241 - accuracy: 0.9568 - val_loss: 0.1164 - val_accuracy: 0.9745\n",
            "Epoch 70/85\n",
            "160/160 [==============================] - ETA: 0s - loss: 0.1241 - accuracy: 0.9577\n",
            "Epoch 00070: val_accuracy did not improve from 0.97525\n",
            "160/160 [==============================] - 72s 453ms/step - loss: 0.1241 - accuracy: 0.9577 - val_loss: 0.1351 - val_accuracy: 0.9706\n",
            "Epoch 71/85\n",
            "160/160 [==============================] - ETA: 0s - loss: 0.1222 - accuracy: 0.9574\n",
            "Epoch 00071: val_accuracy did not improve from 0.97525\n",
            "160/160 [==============================] - 72s 452ms/step - loss: 0.1222 - accuracy: 0.9574 - val_loss: 0.1431 - val_accuracy: 0.9686\n",
            "Epoch 72/85\n",
            "160/160 [==============================] - ETA: 0s - loss: 0.1222 - accuracy: 0.9583\n",
            "Epoch 00072: val_accuracy improved from 0.97525 to 0.97675, saving model to weights-improvement-trial-randomstate_7.hdf5\n",
            "160/160 [==============================] - 73s 454ms/step - loss: 0.1222 - accuracy: 0.9583 - val_loss: 0.0991 - val_accuracy: 0.9768\n",
            "Epoch 73/85\n",
            "160/160 [==============================] - ETA: 0s - loss: 0.1251 - accuracy: 0.9571\n",
            "Epoch 00073: val_accuracy did not improve from 0.97675\n",
            "160/160 [==============================] - 72s 453ms/step - loss: 0.1251 - accuracy: 0.9571 - val_loss: 0.2090 - val_accuracy: 0.9409\n",
            "Epoch 74/85\n",
            "160/160 [==============================] - ETA: 0s - loss: 0.1202 - accuracy: 0.9589\n",
            "Epoch 00074: val_accuracy did not improve from 0.97675\n",
            "160/160 [==============================] - 72s 452ms/step - loss: 0.1202 - accuracy: 0.9589 - val_loss: 0.1248 - val_accuracy: 0.9695\n",
            "Epoch 75/85\n",
            "160/160 [==============================] - ETA: 0s - loss: 0.1226 - accuracy: 0.9585\n",
            "Epoch 00075: val_accuracy did not improve from 0.97675\n",
            "160/160 [==============================] - 72s 452ms/step - loss: 0.1226 - accuracy: 0.9585 - val_loss: 0.1090 - val_accuracy: 0.9729\n",
            "Epoch 76/85\n",
            "160/160 [==============================] - ETA: 0s - loss: 0.1192 - accuracy: 0.9591\n",
            "Epoch 00076: val_accuracy did not improve from 0.97675\n",
            "160/160 [==============================] - 72s 452ms/step - loss: 0.1192 - accuracy: 0.9591 - val_loss: 0.1744 - val_accuracy: 0.9482\n",
            "Epoch 77/85\n",
            "160/160 [==============================] - ETA: 0s - loss: 0.1176 - accuracy: 0.9602\n",
            "Epoch 00077: val_accuracy did not improve from 0.97675\n",
            "160/160 [==============================] - 72s 452ms/step - loss: 0.1176 - accuracy: 0.9602 - val_loss: 0.3451 - val_accuracy: 0.9541\n",
            "Epoch 78/85\n",
            "160/160 [==============================] - ETA: 0s - loss: 0.1152 - accuracy: 0.9610\n",
            "Epoch 00078: val_accuracy did not improve from 0.97675\n",
            "160/160 [==============================] - 72s 452ms/step - loss: 0.1152 - accuracy: 0.9610 - val_loss: 0.1145 - val_accuracy: 0.9699\n",
            "Epoch 79/85\n",
            "160/160 [==============================] - ETA: 0s - loss: 0.1165 - accuracy: 0.9611\n",
            "Epoch 00079: val_accuracy did not improve from 0.97675\n",
            "160/160 [==============================] - 72s 452ms/step - loss: 0.1165 - accuracy: 0.9611 - val_loss: 0.1705 - val_accuracy: 0.9697\n",
            "Epoch 80/85\n",
            "160/160 [==============================] - ETA: 0s - loss: 0.1167 - accuracy: 0.9600\n",
            "Epoch 00080: val_accuracy did not improve from 0.97675\n",
            "160/160 [==============================] - 72s 452ms/step - loss: 0.1167 - accuracy: 0.9600 - val_loss: 0.2701 - val_accuracy: 0.9370\n",
            "Epoch 81/85\n",
            "160/160 [==============================] - ETA: 0s - loss: 0.1141 - accuracy: 0.9614\n",
            "Epoch 00081: val_accuracy did not improve from 0.97675\n",
            "160/160 [==============================] - 72s 452ms/step - loss: 0.1141 - accuracy: 0.9614 - val_loss: 0.2607 - val_accuracy: 0.9555\n",
            "Epoch 82/85\n",
            "160/160 [==============================] - ETA: 0s - loss: 0.1179 - accuracy: 0.9605\n",
            "Epoch 00082: val_accuracy did not improve from 0.97675\n",
            "160/160 [==============================] - 72s 452ms/step - loss: 0.1179 - accuracy: 0.9605 - val_loss: 0.1180 - val_accuracy: 0.9716\n",
            "Epoch 83/85\n",
            "160/160 [==============================] - ETA: 0s - loss: 0.1133 - accuracy: 0.9608\n",
            "Epoch 00083: val_accuracy did not improve from 0.97675\n",
            "160/160 [==============================] - 72s 452ms/step - loss: 0.1133 - accuracy: 0.9608 - val_loss: 0.1023 - val_accuracy: 0.9735\n",
            "Epoch 84/85\n",
            "160/160 [==============================] - ETA: 0s - loss: 0.1142 - accuracy: 0.9614\n",
            "Epoch 00084: val_accuracy did not improve from 0.97675\n",
            "160/160 [==============================] - 72s 452ms/step - loss: 0.1142 - accuracy: 0.9614 - val_loss: 0.2067 - val_accuracy: 0.9576\n",
            "Epoch 85/85\n",
            "160/160 [==============================] - ETA: 0s - loss: 0.1144 - accuracy: 0.9611\n",
            "Epoch 00085: val_accuracy did not improve from 0.97675\n",
            "160/160 [==============================] - 72s 452ms/step - loss: 0.1144 - accuracy: 0.9611 - val_loss: 0.1153 - val_accuracy: 0.9730\n"
          ],
          "name": "stdout"
        }
      ]
    },
    {
      "cell_type": "code",
      "metadata": {
        "id": "n0GMw6Js1czK"
      },
      "source": [
        "test_pred = model1.predict(test_images)"
      ],
      "execution_count": 16,
      "outputs": []
    },
    {
      "cell_type": "code",
      "metadata": {
        "id": "JF3qLktx54eS"
      },
      "source": [
        "list_pred = []\n",
        "for i in range(test_pred.shape[0]):\n",
        "  list_pred.append(np.where(test_pred[i] == max(test_pred[i]))[0])\n",
        "\n",
        "\n",
        "submission = pd.DataFrame(list_pred, columns=['Label'])\n",
        "  "
      ],
      "execution_count": null,
      "outputs": []
    },
    {
      "cell_type": "code",
      "metadata": {
        "id": "iVuxx-Pr1-Rk",
        "colab": {
          "base_uri": "https://localhost:8080/",
          "height": 319
        },
        "outputId": "c93b2419-b590-4939-c2d3-d82840909f5c"
      },
      "source": [
        "plt.imshow(test_images[5].reshape(128,128), cmap='gray')\n",
        "submission.to_csv(\"submission.csv\", index_label='ID', columns=['Label'])\n",
        "\n",
        "print(test_pred[5])\n",
        "print(test_pred.shape)"
      ],
      "execution_count": 21,
      "outputs": [
        {
          "output_type": "stream",
          "text": [
            "[1.3236054e-04 9.7438489e-04 1.8926956e-05 3.0002404e-02 1.2301398e-04\n",
            " 9.6448672e-01 2.3344620e-03 6.3573272e-04 1.3063398e-04 1.1613809e-03]\n",
            "(10000, 10)\n"
          ],
          "name": "stdout"
        },
        {
          "output_type": "display_data",
          "data": {
            "image/png": "[encoded data removed]",
            "text/plain": [
              "<Figure size 432x288 with 1 Axes>"
            ]
          },
          "metadata": {
            "tags": [],
            "needs_background": "light"
          }
        }
      ]
    },
    {
      "cell_type": "code",
      "metadata": {
        "id": "t4fVOXJy24Ub",
        "colab": {
          "base_uri": "https://localhost:8080/"
        },
        "outputId": "25a65477-9cbc-4c60-abb0-a38cc1540186"
      },
      "source": [
        "! kaggle competitions submit -c mais-202-fall-2020-kaggle-competition -f submission.csv -m \"Message\""
      ],
      "execution_count": 23,
      "outputs": [
        {
          "output_type": "stream",
          "text": [
            "Warning: Looks like you're using an outdated API Version, please consider updating (server 1.5.9 / client 1.5.4)\n",
            "100% 67.3k/67.3k [00:07<00:00, 8.74kB/s]\n",
            "Successfully submitted to MAIS 202 Fall 2020 - Kaggle Competition"
          ],
          "name": "stdout"
        }
      ]
    }
  ]
}